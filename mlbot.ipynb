{
 "cells": [
  {
   "cell_type": "code",
   "execution_count": 10,
   "metadata": {},
   "outputs": [
    {
     "name": "stdout",
     "output_type": "stream",
     "text": [
      "Requirement already satisfied: openai in c:\\users\\flosr\\engineering\\ai\\ml\\openai ml bot\\myenv\\lib\\site-packages (1.30.1)\n",
      "Requirement already satisfied: pyQt5 in c:\\users\\flosr\\engineering\\ai\\ml\\openai ml bot\\myenv\\lib\\site-packages (5.15.10)\n",
      "Requirement already satisfied: anyio<5,>=3.5.0 in c:\\users\\flosr\\engineering\\ai\\ml\\openai ml bot\\myenv\\lib\\site-packages (from openai) (4.3.0)\n",
      "Requirement already satisfied: distro<2,>=1.7.0 in c:\\users\\flosr\\engineering\\ai\\ml\\openai ml bot\\myenv\\lib\\site-packages (from openai) (1.9.0)\n",
      "Requirement already satisfied: httpx<1,>=0.23.0 in c:\\users\\flosr\\engineering\\ai\\ml\\openai ml bot\\myenv\\lib\\site-packages (from openai) (0.27.0)\n",
      "Requirement already satisfied: pydantic<3,>=1.9.0 in c:\\users\\flosr\\engineering\\ai\\ml\\openai ml bot\\myenv\\lib\\site-packages (from openai) (2.7.1)\n",
      "Requirement already satisfied: sniffio in c:\\users\\flosr\\engineering\\ai\\ml\\openai ml bot\\myenv\\lib\\site-packages (from openai) (1.3.1)\n",
      "Requirement already satisfied: tqdm>4 in c:\\users\\flosr\\engineering\\ai\\ml\\openai ml bot\\myenv\\lib\\site-packages (from openai) (4.66.4)\n",
      "Requirement already satisfied: typing-extensions<5,>=4.7 in c:\\users\\flosr\\engineering\\ai\\ml\\openai ml bot\\myenv\\lib\\site-packages (from openai) (4.11.0)\n",
      "Requirement already satisfied: PyQt5-sip<13,>=12.13 in c:\\users\\flosr\\engineering\\ai\\ml\\openai ml bot\\myenv\\lib\\site-packages (from pyQt5) (12.13.0)\n",
      "Requirement already satisfied: PyQt5-Qt5>=5.15.2 in c:\\users\\flosr\\engineering\\ai\\ml\\openai ml bot\\myenv\\lib\\site-packages (from pyQt5) (5.15.2)\n",
      "Requirement already satisfied: idna>=2.8 in c:\\users\\flosr\\engineering\\ai\\ml\\openai ml bot\\myenv\\lib\\site-packages (from anyio<5,>=3.5.0->openai) (3.7)\n",
      "Requirement already satisfied: certifi in c:\\users\\flosr\\engineering\\ai\\ml\\openai ml bot\\myenv\\lib\\site-packages (from httpx<1,>=0.23.0->openai) (2024.2.2)\n",
      "Requirement already satisfied: httpcore==1.* in c:\\users\\flosr\\engineering\\ai\\ml\\openai ml bot\\myenv\\lib\\site-packages (from httpx<1,>=0.23.0->openai) (1.0.5)\n",
      "Requirement already satisfied: h11<0.15,>=0.13 in c:\\users\\flosr\\engineering\\ai\\ml\\openai ml bot\\myenv\\lib\\site-packages (from httpcore==1.*->httpx<1,>=0.23.0->openai) (0.14.0)\n",
      "Requirement already satisfied: annotated-types>=0.4.0 in c:\\users\\flosr\\engineering\\ai\\ml\\openai ml bot\\myenv\\lib\\site-packages (from pydantic<3,>=1.9.0->openai) (0.6.0)\n",
      "Requirement already satisfied: pydantic-core==2.18.2 in c:\\users\\flosr\\engineering\\ai\\ml\\openai ml bot\\myenv\\lib\\site-packages (from pydantic<3,>=1.9.0->openai) (2.18.2)\n",
      "Requirement already satisfied: colorama in c:\\users\\flosr\\engineering\\ai\\ml\\openai ml bot\\myenv\\lib\\site-packages (from tqdm>4->openai) (0.4.6)\n",
      "Note: you may need to restart the kernel to use updated packages.\n"
     ]
    }
   ],
   "source": [
    "%pip install openai pyQt5\n",
    "import Constants\n",
    "import sys\n",
    "import openai\n",
    "from PyQt5.QtCore import *\n",
    "from PyQt5.QtGui import QPixmap\n",
    "from PyQt5.QtWidgets import (\n",
    "    QApplication,\n",
    "    QWidget,\n",
    "    QLabel,\n",
    "    QLineEdit,\n",
    "    QTextEdit,\n",
    "    QPushButton,\n",
    "    QBoxLayout,\n",
    "    QVBoxLayout,\n",
    "    QHBoxLayout,\n",
    "    QGroupBox)\n"
   ]
  },
  {
   "cell_type": "code",
   "execution_count": 8,
   "metadata": {},
   "outputs": [],
   "source": [
    "openai.api_key = Constants.API_KEY"
   ]
  },
  {
   "cell_type": "code",
   "execution_count": 9,
   "metadata": {},
   "outputs": [],
   "source": [
    "class MainWindow(QWidget):\n",
    "    def init(self):\n",
    "        super().__init__()\n",
    "        self.init_ui()\n",
    "\n",
    "    def init_ui(self):\n",
    "        #Create widgets\n",
    "        self.logo_label = QLabel()\n",
    "        self.logo_pixmap = QPixmap('robot.jpg').scaled(150,150,Qt.KeepAspectRatio,Qt.SmoothTransformation)\n",
    "        self.logo_label.setPixmap(self.logo_pixmap)\n",
    "        self.input_label =QLabel('Ask a question:')\n",
    "        self.input_field = QLineEdit()\n",
    "        self.input_field.setPlaceholderText('Type here...')\n",
    "        self.answer_field = QTextEdit() \n",
    "        self.answer_field.setReadOnly(True)\n",
    "        self.submit_button = QPushButton()\n",
    "        self.submit_button.setStyleSheet(\n",
    "            \"\"\"\n",
    "            QPushButton {background-color: #4CAF50;\n",
    "            border:None;\n",
    "            padding:15px 32px;\n",
    "            font-size:18px;\n",
    "            font-weight: bold;\n",
    "            border-radius: 10px;\n",
    "            }\n",
    "            QPushButton:hover\n",
    "            \n",
    "        \n",
    "        )"
   ]
  }
 ],
 "metadata": {
  "kernelspec": {
   "display_name": "myenv",
   "language": "python",
   "name": "python3"
  },
  "language_info": {
   "codemirror_mode": {
    "name": "ipython",
    "version": 3
   },
   "file_extension": ".py",
   "mimetype": "text/x-python",
   "name": "python",
   "nbconvert_exporter": "python",
   "pygments_lexer": "ipython3",
   "version": "3.12.3"
  }
 },
 "nbformat": 4,
 "nbformat_minor": 2
}
